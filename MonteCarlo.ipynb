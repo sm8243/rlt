{
  "nbformat": 4,
  "nbformat_minor": 0,
  "metadata": {
    "colab": {
      "provenance": []
    },
    "kernelspec": {
      "name": "python3",
      "display_name": "Python 3"
    },
    "language_info": {
      "name": "python"
    }
  },
  "cells": [
    {
      "cell_type": "code",
      "execution_count": null,
      "metadata": {
        "colab": {
          "base_uri": "https://localhost:8080/"
        },
        "id": "HjndXZw60Km3",
        "outputId": "1f19af09-61d5-4821-854d-8543dad4f54c"
      },
      "outputs": [
        {
          "output_type": "stream",
          "name": "stdout",
          "text": [
            "State: 0, Value: 3.3681\n",
            "State: 2, Value: 1.0\n",
            "State: 3, Value: 4.424408014571949\n",
            "State: 1, Value: 3.5183137525915686\n"
          ]
        }
      ],
      "source": [
        "\n",
        "import numpy as np\n",
        "import matplotlib.pyplot as plt\n",
        "\n",
        "class CustomEnv:\n",
        "    def __init__(self):\n",
        "        # Define the number of states and actions\n",
        "        self.n_states = 5\n",
        "        self.n_actions = 2\n",
        "\n",
        "        # Define transition probabilities\n",
        "        self.P = np.zeros((self.n_states, self.n_actions, self.n_states))\n",
        "        self.P[0, 0, :] = [0.9, 0.1, 0.0, 0.0, 0.0]\n",
        "        self.P[0, 1, :] = [0.0, 0.0, 0.9, 0.1, 0.0]\n",
        "        self.P[1, 0, :] = [0.8, 0.2, 0.0, 0.0, 0.0]\n",
        "        self.P[1, 1, :] = [0.0, 0.0, 0.8, 0.2, 0.0]\n",
        "        self.P[2, 0, :] = [0.0, 0.0, 0.0, 0.0, 1.0]\n",
        "        self.P[2, 1, :] = [0.0, 0.0, 0.0, 0.0, 1.0]\n",
        "        self.P[3, 0, :] = [1.0, 0.0, 0.0, 0.0, 0.0]\n",
        "        self.P[3, 1, :] = [0.0, 1.0, 0.0, 0.0, 0.0]\n",
        "        self.P[4, :, :] = [0.0, 0.0, 0.0, 0.0, 1.0]\n",
        "\n",
        "        # Define rewards\n",
        "        self.R = np.zeros((self.n_states, self.n_actions))\n",
        "        self.R[0, 0] = 1.0\n",
        "        self.R[0, 1] = 1.0\n",
        "        self.R[1, 0] = 1.0\n",
        "        self.R[1, 1] = 1.0\n",
        "        self.R[2, 0] = 1.0\n",
        "        self.R[2, 1] = 1.0\n",
        "        self.R[3, 0] = 1.0\n",
        "        self.R[3, 1] = 1.0\n",
        "\n",
        "        # Start from state 0\n",
        "        self.current_state = 0\n",
        "\n",
        "    def reset(self):\n",
        "        self.current_state = 0\n",
        "        return self.current_state\n",
        "\n",
        "    def step(self, action):\n",
        "        next_state = np.random.choice(self.n_states, p=self.P[self.current_state, action])\n",
        "        reward = self.R[self.current_state, action]\n",
        "        self.current_state = next_state\n",
        "        done = self.current_state == 4\n",
        "        return next_state, reward, done, {}\n",
        "\n",
        "    def render(self):\n",
        "        pass\n",
        "\n",
        "def random_policy(state):\n",
        "    return np.random.randint(0, 2)\n",
        "\n",
        "def monte_carlo_prediction(env, policy, num_episodes, gamma=1.0):\n",
        "    returns_sum = {}\n",
        "    returns_count = {}\n",
        "    V = {}\n",
        "\n",
        "    for _ in range(num_episodes):\n",
        "        episode = []\n",
        "        state = env.reset()\n",
        "        done = False\n",
        "        while not done:\n",
        "            action = policy(state)\n",
        "            next_state, reward, done, _ = env.step(action)\n",
        "            episode.append((state, action, reward))\n",
        "            state = next_state\n",
        "\n",
        "        visited_states = set()\n",
        "        for t, (state, _, _) in enumerate(episode):\n",
        "            if state not in visited_states:\n",
        "                visited_states.add(state)\n",
        "                G = sum([x[2] * gamma**i for i, x in enumerate(episode[t:])])\n",
        "                if state in returns_sum:\n",
        "                    returns_sum[state] += G\n",
        "                    returns_count[state] += 1\n",
        "                else:\n",
        "                    returns_sum[state] = G\n",
        "                    returns_count[state] = 1\n",
        "                V[state] = returns_sum[state] / returns_count[state]\n",
        "\n",
        "    return V\n",
        "if __name__ == \"__main__\":\n",
        "    env = CustomEnv()\n",
        "    num_episodes = 10000\n",
        "    V = monte_carlo_prediction(env, random_policy, num_episodes)\n",
        "    for state, value in V.items():\n",
        "        print(f\"State: {state}, Value: {value}\")\n",
        "    states = list(V.keys())\n",
        "    values = list(V.values())\n"
      ]
    },
    {
      "cell_type": "code",
      "source": [],
      "metadata": {
        "id": "qri-BLcq0ZSJ"
      },
      "execution_count": null,
      "outputs": []
    }
  ]
}