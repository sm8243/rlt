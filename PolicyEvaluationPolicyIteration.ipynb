{
  "nbformat": 4,
  "nbformat_minor": 0,
  "metadata": {
    "colab": {
      "provenance": []
    },
    "kernelspec": {
      "name": "python3",
      "display_name": "Python 3"
    },
    "language_info": {
      "name": "python"
    }
  },
  "cells": [
    {
      "cell_type": "code",
      "execution_count": 1,
      "metadata": {
        "colab": {
          "base_uri": "https://localhost:8080/"
        },
        "id": "2PIUaldZWdco",
        "outputId": "b471da43-9ca2-439c-dab6-38847006bd45"
      },
      "outputs": [
        {
          "output_type": "stream",
          "name": "stdout",
          "text": [
            "Optimal Policy:\n",
            "[[0. 1.]\n",
            " [1. 0.]\n",
            " [1. 0.]]\n",
            "\n",
            "Optimal Value Function:\n",
            "[42.44185624 36.04650774 38.19767062]\n"
          ]
        }
      ],
      "source": [
        "import numpy as np\n",
        "\n",
        "# Define the environment\n",
        "num_states = 3\n",
        "num_actions = 2\n",
        "gamma = 0.9\n",
        "\n",
        "# Define the transition probabilities\n",
        "# P[state, action, next_state] = probability\n",
        "P = np.array([\n",
        "    [[0.7, 0.3, 0.0], [0.0, 1.0, 0.0]],\n",
        "    [[0.8, 0.2, 0.0], [0.4, 0.4, 0.2]],\n",
        "    [[1.0, 0.0, 0.0], [0.0, 0.0, 1.0]]\n",
        "])\n",
        "\n",
        "# Define the rewards\n",
        "# R[state, action] = reward\n",
        "R = np.array([\n",
        "    [-1, 10],\n",
        "    [-1, -1],\n",
        "    [0, -1]\n",
        "])\n",
        "\n",
        "# Random policy\n",
        "policy = np.array([[0.5, 0.5], [0.5, 0.5], [0.5, 0.5]])\n",
        "\n",
        "def policy_evaluation(policy, P, R, gamma=0.9, theta=1e-6):\n",
        "    V = np.zeros(num_states)\n",
        "    while True:\n",
        "        delta = 0\n",
        "        for s in range(num_states):\n",
        "            v = V[s]\n",
        "            V[s] = sum(policy[s, a] * sum(P[s, a, s1] * (R[s, a] + gamma * V[s1]) for s1 in range(num_states)) for a in range(num_actions))\n",
        "            delta = max(delta, abs(v - V[s]))\n",
        "        if delta < theta:\n",
        "            break\n",
        "    return V\n",
        "\n",
        "def policy_iteration(P, R, gamma=0.9, theta=1e-6):\n",
        "    policy = np.ones((num_states, num_actions)) / num_actions\n",
        "    while True:\n",
        "        V = policy_evaluation(policy, P, R, gamma, theta)\n",
        "        policy_stable = True\n",
        "        for s in range(num_states):\n",
        "            old_action = np.argmax(policy[s])\n",
        "            new_action = np.argmax([sum(P[s, a, s1] * (R[s, a] + gamma * V[s1]) for s1 in range(num_states)) for a in range(num_actions)])\n",
        "            if old_action != new_action:\n",
        "                policy_stable = False\n",
        "            policy[s] = np.eye(num_actions)[new_action]\n",
        "        if policy_stable:\n",
        "            break\n",
        "    return policy, V\n",
        "\n",
        "# Perform policy iteration\n",
        "policy_optimal, V_optimal = policy_iteration(P, R, gamma)\n",
        "\n",
        "print(\"Optimal Policy:\")\n",
        "print(policy_optimal)\n",
        "print(\"\\nOptimal Value Function:\")\n",
        "print(V_optimal)\n"
      ]
    },
    {
      "cell_type": "code",
      "source": [],
      "metadata": {
        "id": "SS7ceLYcWlL_"
      },
      "execution_count": null,
      "outputs": []
    }
  ]
}