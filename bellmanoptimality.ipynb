{
  "nbformat": 4,
  "nbformat_minor": 0,
  "metadata": {
    "colab": {
      "provenance": []
    },
    "kernelspec": {
      "name": "python3",
      "display_name": "Python 3"
    },
    "language_info": {
      "name": "python"
    }
  },
  "cells": [
    {
      "cell_type": "code",
      "execution_count": 1,
      "metadata": {
        "colab": {
          "base_uri": "https://localhost:8080/"
        },
        "id": "xT6hm_-kYnqe",
        "outputId": "720ab86b-25c4-444e-f5fa-ef5d2d16ccdb"
      },
      "outputs": [
        {
          "output_type": "stream",
          "name": "stdout",
          "text": [
            "Optimal value function: [21.1961682  23.68420728 26.31578656]\n"
          ]
        }
      ],
      "source": [
        "#Bellman Opitmality Equations\n",
        "import numpy as np\n",
        "\n",
        "class MDP:\n",
        "    def __init__(self, num_states, num_actions, transition_probs, rewards, gamma=0.9):\n",
        "        self.num_states = num_states\n",
        "        self.num_actions = num_actions\n",
        "        self.transition_probs = transition_probs\n",
        "        self.rewards = rewards\n",
        "        self.gamma = gamma\n",
        "\n",
        "    def value_iteration(self, tol=1e-6):\n",
        "        V = np.zeros(self.num_states)\n",
        "        while True:\n",
        "            delta = 0\n",
        "            for s in range(self.num_states):\n",
        "                v = V[s]\n",
        "                # Bellman optimality equation: V(s) = max_a sum_s' P(s'|s,a) * [R(s,a,s') + gamma * V(s')]\n",
        "                max_value = float('-inf')\n",
        "                for a in range(self.num_actions):\n",
        "                    action_value = sum(self.transition_probs[s, a, s_prime] *\n",
        "                                       (self.rewards[s, a] + self.gamma * V[s_prime])\n",
        "                                       for s_prime in range(self.num_states))\n",
        "                    max_value = max(max_value, action_value)\n",
        "                V[s] = max_value\n",
        "                delta = max(delta, abs(v - V[s]))\n",
        "            if delta < tol:\n",
        "                break\n",
        "        return V\n",
        "\n",
        "# Example usage\n",
        "num_states = 3\n",
        "num_actions = 2\n",
        "transition_probs = np.array([[[0.5, 0.5, 0.0], [1.0, 0.0, 0.0]],\n",
        "                             [[0.0, 0.0, 1.0], [0.0, 0.0, 1.0]],\n",
        "                             [[0.0, 1.0, 0.0], [0.5, 0.5, 0.0]]])\n",
        "rewards = np.array([[1.0, 2.0], [0.0, 0.0], [5.0, -1.0]])\n",
        "mdp = MDP(num_states, num_actions, transition_probs, rewards)\n",
        "V_optimal = mdp.value_iteration()\n",
        "print(\"Optimal value function:\", V_optimal)"
      ]
    },
    {
      "cell_type": "code",
      "source": [],
      "metadata": {
        "id": "9MzxkM9OY0b1"
      },
      "execution_count": null,
      "outputs": []
    }
  ]
}