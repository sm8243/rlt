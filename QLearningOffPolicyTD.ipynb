{
  "nbformat": 4,
  "nbformat_minor": 0,
  "metadata": {
    "colab": {
      "provenance": []
    },
    "kernelspec": {
      "name": "python3",
      "display_name": "Python 3"
    },
    "language_info": {
      "name": "python"
    }
  },
  "cells": [
    {
      "cell_type": "code",
      "execution_count": 1,
      "metadata": {
        "colab": {
          "base_uri": "https://localhost:8080/"
        },
        "id": "JEkpcF2SMJvc",
        "outputId": "8ec19389-33a4-4f5a-996c-a2e2225fbd4a"
      },
      "outputs": [
        {
          "output_type": "stream",
          "name": "stdout",
          "text": [
            "Total rewards: 100\n"
          ]
        }
      ],
      "source": [
        "import numpy as np\n",
        "\n",
        "class QLearning:\n",
        "    def __init__(self, num_states, num_actions, learning_rate=0.1, discount_factor=0.9, epsilon=0.1):\n",
        "        self.num_states = num_states\n",
        "        self.num_actions = num_actions\n",
        "        self.learning_rate = learning_rate\n",
        "        self.discount_factor = discount_factor\n",
        "        self.epsilon = epsilon\n",
        "        self.q_table = np.zeros((num_states, num_actions))\n",
        "\n",
        "    def choose_action(self, state):\n",
        "        if np.random.uniform(0, 1) < self.epsilon:\n",
        "            return np.random.choice(self.num_actions)\n",
        "        else:\n",
        "            return np.argmax(self.q_table[state, :])\n",
        "\n",
        "    def update_q_table(self, state, action, reward, next_state):\n",
        "        best_next_action = np.argmax(self.q_table[next_state, :])\n",
        "        td_target = reward + self.discount_factor * self.q_table[next_state, best_next_action]\n",
        "        td_error = td_target - self.q_table[state, action]\n",
        "        self.q_table[state, action] += self.learning_rate * td_error\n",
        "\n",
        "    def train(self, env, num_episodes):\n",
        "        for _ in range(num_episodes):\n",
        "            state = env.reset()\n",
        "            done = False\n",
        "            while not done:\n",
        "                action = self.choose_action(state)\n",
        "                next_state, reward, done, _ = env.step(action)\n",
        "                self.update_q_table(state, action, reward, next_state)\n",
        "                state = next_state\n",
        "\n",
        "    def test(self, env, num_episodes):\n",
        "        total_rewards = 0\n",
        "        for _ in range(num_episodes):\n",
        "            state = env.reset()\n",
        "            done = False\n",
        "            while not done:\n",
        "                action = np.argmax(self.q_table[state, :])\n",
        "                next_state, reward, done, _ = env.step(action)\n",
        "                total_rewards += reward\n",
        "                state = next_state\n",
        "        return total_rewards\n",
        "\n",
        "# Example usage\n",
        "if __name__ == \"__main__\":\n",
        "    # Define a simple environment (e.g., a grid world)\n",
        "    class SimpleEnv:\n",
        "        def __init__(self):\n",
        "            self.num_states = 5\n",
        "            self.num_actions = 2\n",
        "            self.state = 0\n",
        "\n",
        "        def reset(self):\n",
        "            self.state = 0\n",
        "            return self.state\n",
        "\n",
        "        def step(self, action):\n",
        "            if action == 0:\n",
        "                self.state = max(0, self.state - 1)\n",
        "            else:\n",
        "                self.state = min(self.num_states - 1, self.state + 1)\n",
        "            reward = 1 if self.state == self.num_states - 1 else 0\n",
        "            done = self.state == self.num_states - 1\n",
        "            return self.state, reward, done, {}\n",
        "\n",
        "    env = SimpleEnv()\n",
        "    agent = QLearning(num_states=env.num_states, num_actions=env.num_actions)\n",
        "    agent.train(env, num_episodes=1000)\n",
        "    total_rewards = agent.test(env, num_episodes=100)\n",
        "    print(\"Total rewards:\", total_rewards)\n"
      ]
    },
    {
      "cell_type": "code",
      "source": [],
      "metadata": {
        "id": "PDNznF8qMO_5"
      },
      "execution_count": null,
      "outputs": []
    }
  ]
}