{
  "nbformat": 4,
  "nbformat_minor": 0,
  "metadata": {
    "colab": {
      "provenance": []
    },
    "kernelspec": {
      "name": "python3",
      "display_name": "Python 3"
    },
    "language_info": {
      "name": "python"
    }
  },
  "cells": [
    {
      "cell_type": "code",
      "execution_count": null,
      "metadata": {
        "colab": {
          "base_uri": "https://localhost:8080/"
        },
        "id": "8bono6GCA_Ls",
        "outputId": "b57f0ceb-4941-4665-923d-2d952b04ebcf"
      },
      "outputs": [
        {
          "output_type": "stream",
          "name": "stdout",
          "text": [
            "Optimal value function: [21.1961682  23.68420728 26.31578656]\n"
          ]
        }
      ],
      "source": [
        "import numpy as np\n",
        "\n",
        "class MDP:\n",
        "    def __init__(self, num_states, num_actions, transition_probs, rewards, gamma=0.9):\n",
        "        self.num_states = num_states\n",
        "        self.num_actions = num_actions\n",
        "        self.transition_probs = transition_probs  # shape: (num_states, num_actions, num_states)\n",
        "        self.rewards = rewards  # shape: (num_states, num_actions)\n",
        "        self.gamma = gamma\n",
        "\n",
        "    def value_iteration(self, tol=1e-6):\n",
        "        V = np.zeros(self.num_states)  # Initialize value function\n",
        "        while True:\n",
        "            delta = 0\n",
        "            for s in range(self.num_states):\n",
        "                v = V[s]\n",
        "                V[s] = max(self._bellman_operator(s, V))\n",
        "                delta = max(delta, abs(v - V[s]))\n",
        "            if delta < tol:\n",
        "                break\n",
        "        return V\n",
        "\n",
        "    def _bellman_operator(self, state, V):\n",
        "        Q = np.zeros(self.num_actions)\n",
        "        for a in range(self.num_actions):\n",
        "            for s_prime in range(self.num_states):\n",
        "                Q[a] += self.transition_probs[state, a, s_prime] * (self.rewards[state, a] + self.gamma * V[s_prime])\n",
        "        return Q\n",
        "\n",
        "# Example usage\n",
        "num_states = 3\n",
        "num_actions = 2\n",
        "transition_probs = np.array([[[0.5, 0.5, 0.0], [1.0, 0.0, 0.0]], [[0.0, 0.0, 1.0], [0.0, 0.0, 1.0]], [[0.0, 1.0, 0.0], [0.5, 0.5, 0.0]]])\n",
        "rewards = np.array([[1.0, 2.0], [0.0, 0.0], [5.0, -1.0]])\n",
        "mdp = MDP(num_states, num_actions, transition_probs, rewards)\n",
        "V = mdp.value_iteration()\n",
        "print(\"Optimal value function:\", V)"
      ]
    }
  ]
}